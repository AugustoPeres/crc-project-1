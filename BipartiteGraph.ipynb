{
 "cells": [
  {
   "cell_type": "code",
   "execution_count": 1,
   "metadata": {},
   "outputs": [],
   "source": [
    "from itertools import count\n",
    "import networkx as nx\n",
    "import numpy as np\n",
    "import matplotlib.pyplot as plt\n",
    "from importmarvel import create_marvel_graph\n",
    "from colorspacious import cspace_converter\n",
    "from collections import OrderedDict\n",
    "import collections\n",
    "import pandas as pd"
   ]
  },
  {
   "cell_type": "code",
   "execution_count": 2,
   "metadata": {},
   "outputs": [],
   "source": [
    "G=nx.read_graphml('bipartitegraph.graphml')"
   ]
  },
  {
   "cell_type": "code",
   "execution_count": 42,
   "metadata": {},
   "outputs": [],
   "source": [
    "characterSet=list(range(1,6486+1))\n",
    "bookSet=list(range(6486+1,19428+1))"
   ]
  },
  {
   "cell_type": "code",
   "execution_count": 14,
   "metadata": {},
   "outputs": [
    {
     "data": {
      "text/plain": [
       "0.0011515357805237751"
      ]
     },
     "execution_count": 14,
     "metadata": {},
     "output_type": "execute_result"
    }
   ],
   "source": [
    "#BIPARTITE GRAPH DENSITY\n",
    "nx.bipartite.density(G,characterSet)"
   ]
  },
  {
   "cell_type": "code",
   "execution_count": 28,
   "metadata": {},
   "outputs": [],
   "source": [
    "labels=nx.get_node_attributes(G,'label')"
   ]
  },
  {
   "cell_type": "code",
   "execution_count": 38,
   "metadata": {},
   "outputs": [
    {
     "data": {
      "text/plain": [
       "[['AMAZO-MAXI-WOMAN/', 1.0],\n",
       " ['DARLEGUNG, GEN.', 1.0],\n",
       " ['MANT/ERNEST', 1.0],\n",
       " ['MISS THING/MARY', 1.0],\n",
       " ['PANTHER CUB/', 1.0],\n",
       " ['STERLING', 1.0],\n",
       " ['SWORDSMAN IV/', 1.0],\n",
       " ['KBSS 1', 0.9523809523809524],\n",
       " ['KBSS 2', 0.9523809523809523],\n",
       " ['KBSS 3', 0.9523809523809523],\n",
       " ['KBSS 4', 0.9523809523809523],\n",
       " ['KBSS 5', 0.9523809523809523],\n",
       " ['KBSS 6', 0.9523809523809523],\n",
       " ['KBSS 7', 0.9523809523809524],\n",
       " ['KBSS 8', 0.9523809523809524],\n",
       " ['KBSS 9', 0.9523809523809523],\n",
       " ['KBSS 10', 0.9523809523809523],\n",
       " ['KBSS 11', 0.9523809523809523],\n",
       " ['KBSS 12', 0.9523809523809524],\n",
       " ['KBSS 13', 0.9523809523809523],\n",
       " ['KBSS 14', 0.9523809523809523],\n",
       " ['SSOC 213/2', 1.0],\n",
       " ['UX@ 13/3', 1.0],\n",
       " ['NAMOR 52', 1.0],\n",
       " ['NAMOR 53', 1.0]]"
      ]
     },
     "execution_count": 38,
     "metadata": {},
     "output_type": "execute_result"
    }
   ],
   "source": [
    "#BIPARTITE CLUSTERING COEFFICIENT\n",
    "\n",
    "'''\n",
    "formula in:\n",
    "https://networkx.github.io/documentation/stable/reference/algorithms/generated/networkx.algorithms.bipartite.cluster.clustering.html#networkx.algorithms.bipartite.cluster.clustering\n",
    "nx.bipartite.clustering(G, nodes=None, mode='dot')\n",
    "\n",
    "'''\n",
    "biclust=nx.bipartite.clustering(G, nodes=None, mode='dot')\n",
    "\n",
    "\n",
    "bcc=0.9\n",
    "biclustnodes=[]\n",
    "\n",
    "#characters+books\n",
    "for i in range(1,19429+1):\n",
    "    if str(i) in biclust.keys():\n",
    "        z= biclust[str(i)]\n",
    "        if z>=bcc:\n",
    "            if i==4656:\n",
    "                biclustnodes.append(['unknown character',z])\n",
    "            else:\n",
    "                biclustnodes.append([labels[str(i)],z])\n",
    "biclustnodes"
   ]
  },
  {
   "cell_type": "code",
   "execution_count": 43,
   "metadata": {},
   "outputs": [
    {
     "data": {
      "text/plain": [
       "[['AMAZO-MAXI-WOMAN/', 1.0],\n",
       " ['DARLEGUNG, GEN.', 1.0],\n",
       " ['MANT/ERNEST', 1.0],\n",
       " ['MISS THING/MARY', 1.0],\n",
       " ['PANTHER CUB/', 1.0],\n",
       " ['STERLING', 1.0],\n",
       " ['SWORDSMAN IV/', 1.0],\n",
       " ['KBSS 1', 0.9523809523809524],\n",
       " ['KBSS 2', 0.9523809523809523],\n",
       " ['KBSS 3', 0.9523809523809523],\n",
       " ['KBSS 4', 0.9523809523809523],\n",
       " ['KBSS 5', 0.9523809523809523],\n",
       " ['KBSS 6', 0.9523809523809523],\n",
       " ['KBSS 7', 0.9523809523809524],\n",
       " ['KBSS 8', 0.9523809523809524],\n",
       " ['KBSS 9', 0.9523809523809523],\n",
       " ['KBSS 10', 0.9523809523809523],\n",
       " ['KBSS 11', 0.9523809523809523],\n",
       " ['KBSS 12', 0.9523809523809524],\n",
       " ['KBSS 13', 0.9523809523809523],\n",
       " ['KBSS 14', 0.9523809523809523],\n",
       " ['SSOC 213/2', 1.0],\n",
       " ['UX@ 13/3', 1.0],\n",
       " ['NAMOR 52', 1.0],\n",
       " ['NAMOR 53', 1.0]]"
      ]
     },
     "execution_count": 43,
     "metadata": {},
     "output_type": "execute_result"
    }
   ],
   "source": [
    "bcc=0.89\n",
    "biclustnodes=[]\n",
    "\n",
    "#characters\n",
    "for i in characterSet:\n",
    "    if str(i) in biclust.keys():\n",
    "        z= biclust[str(i)]\n",
    "        if z>=bcc:\n",
    "            if i==4656:\n",
    "                biclustnodes.append(['unknown character',z])\n",
    "            else:\n",
    "                biclustnodes.append([labels[str(i)],z])\n",
    "biclustnodes\n",
    "\n",
    "#books\n",
    "for i in bookSet:\n",
    "    if str(i) in biclust.keys():\n",
    "        z= biclust[str(i)]\n",
    "        if z>=bcc:\n",
    "            if i==4656:\n",
    "                biclustnodes.append(['unknown character',z])\n",
    "            else:\n",
    "                biclustnodes.append([labels[str(i)],z])\n",
    "biclustnodes"
   ]
  },
  {
   "cell_type": "code",
   "execution_count": 52,
   "metadata": {},
   "outputs": [
    {
     "name": "stdout",
     "output_type": "stream",
     "text": [
      "0.15450997749969464\n"
     ]
    }
   ],
   "source": [
    "#AVERAGE CLUSTERING COEFFICIENT\n",
    "\n",
    "bipavclus=nx.bipartite.average_clustering(G, nodes=None,mode='dot') #this gives the av. clust. coeff. of the whole graph"
   ]
  },
  {
   "cell_type": "code",
   "execution_count": 54,
   "metadata": {},
   "outputs": [
    {
     "ename": "NodeNotFound",
     "evalue": "Source 1 is not in G",
     "output_type": "error",
     "traceback": [
      "\u001b[1;31m---------------------------------------------------------------------------\u001b[0m",
      "\u001b[1;31mNodeNotFound\u001b[0m                              Traceback (most recent call last)",
      "\u001b[1;32m<ipython-input-54-3afadc01d466>\u001b[0m in \u001b[0;36m<module>\u001b[1;34m()\u001b[0m\n\u001b[0;32m      1\u001b[0m \u001b[1;31m#CLOSENESS CENTRALITY\u001b[0m\u001b[1;33m\u001b[0m\u001b[1;33m\u001b[0m\u001b[0m\n\u001b[1;32m----> 2\u001b[1;33m \u001b[0mclosecent\u001b[0m\u001b[1;33m=\u001b[0m\u001b[0mnx\u001b[0m\u001b[1;33m.\u001b[0m\u001b[0mbipartite\u001b[0m\u001b[1;33m.\u001b[0m\u001b[0mcloseness_centrality\u001b[0m\u001b[1;33m(\u001b[0m\u001b[0mG\u001b[0m\u001b[1;33m,\u001b[0m \u001b[0mcharacterSet\u001b[0m\u001b[1;33m,\u001b[0m \u001b[0mnormalized\u001b[0m\u001b[1;33m=\u001b[0m\u001b[1;32mTrue\u001b[0m\u001b[1;33m)\u001b[0m\u001b[1;33m\u001b[0m\u001b[0m\n\u001b[0m\u001b[0;32m      3\u001b[0m \u001b[1;33m\u001b[0m\u001b[0m\n\u001b[0;32m      4\u001b[0m \u001b[0mcc\u001b[0m\u001b[1;33m=\u001b[0m\u001b[1;36m0.55\u001b[0m\u001b[1;33m\u001b[0m\u001b[0m\n\u001b[0;32m      5\u001b[0m \u001b[1;33m\u001b[0m\u001b[0m\n",
      "\u001b[1;32mC:\\ProgramData\\Anaconda3\\lib\\site-packages\\networkx\\algorithms\\bipartite\\centrality.py\u001b[0m in \u001b[0;36mcloseness_centrality\u001b[1;34m(G, nodes, normalized)\u001b[0m\n\u001b[0;32m    253\u001b[0m     \u001b[0mm\u001b[0m \u001b[1;33m=\u001b[0m \u001b[0mfloat\u001b[0m\u001b[1;33m(\u001b[0m\u001b[0mlen\u001b[0m\u001b[1;33m(\u001b[0m\u001b[0mbottom\u001b[0m\u001b[1;33m)\u001b[0m\u001b[1;33m)\u001b[0m\u001b[1;33m\u001b[0m\u001b[0m\n\u001b[0;32m    254\u001b[0m     \u001b[1;32mfor\u001b[0m \u001b[0mnode\u001b[0m \u001b[1;32min\u001b[0m \u001b[0mtop\u001b[0m\u001b[1;33m:\u001b[0m\u001b[1;33m\u001b[0m\u001b[0m\n\u001b[1;32m--> 255\u001b[1;33m         \u001b[0msp\u001b[0m \u001b[1;33m=\u001b[0m \u001b[0mdict\u001b[0m\u001b[1;33m(\u001b[0m\u001b[0mpath_length\u001b[0m\u001b[1;33m(\u001b[0m\u001b[0mG\u001b[0m\u001b[1;33m,\u001b[0m \u001b[0mnode\u001b[0m\u001b[1;33m)\u001b[0m\u001b[1;33m)\u001b[0m\u001b[1;33m\u001b[0m\u001b[0m\n\u001b[0m\u001b[0;32m    256\u001b[0m         \u001b[0mtotsp\u001b[0m \u001b[1;33m=\u001b[0m \u001b[0msum\u001b[0m\u001b[1;33m(\u001b[0m\u001b[0msp\u001b[0m\u001b[1;33m.\u001b[0m\u001b[0mvalues\u001b[0m\u001b[1;33m(\u001b[0m\u001b[1;33m)\u001b[0m\u001b[1;33m)\u001b[0m\u001b[1;33m\u001b[0m\u001b[0m\n\u001b[0;32m    257\u001b[0m         \u001b[1;32mif\u001b[0m \u001b[0mtotsp\u001b[0m \u001b[1;33m>\u001b[0m \u001b[1;36m0.0\u001b[0m \u001b[1;32mand\u001b[0m \u001b[0mlen\u001b[0m\u001b[1;33m(\u001b[0m\u001b[0mG\u001b[0m\u001b[1;33m)\u001b[0m \u001b[1;33m>\u001b[0m \u001b[1;36m1\u001b[0m\u001b[1;33m:\u001b[0m\u001b[1;33m\u001b[0m\u001b[0m\n",
      "\u001b[1;32mC:\\ProgramData\\Anaconda3\\lib\\site-packages\\networkx\\algorithms\\shortest_paths\\unweighted.py\u001b[0m in \u001b[0;36msingle_source_shortest_path_length\u001b[1;34m(G, source, cutoff)\u001b[0m\n\u001b[0;32m     60\u001b[0m     \"\"\"\n\u001b[0;32m     61\u001b[0m     \u001b[1;32mif\u001b[0m \u001b[0msource\u001b[0m \u001b[1;32mnot\u001b[0m \u001b[1;32min\u001b[0m \u001b[0mG\u001b[0m\u001b[1;33m:\u001b[0m\u001b[1;33m\u001b[0m\u001b[0m\n\u001b[1;32m---> 62\u001b[1;33m         \u001b[1;32mraise\u001b[0m \u001b[0mnx\u001b[0m\u001b[1;33m.\u001b[0m\u001b[0mNodeNotFound\u001b[0m\u001b[1;33m(\u001b[0m\u001b[1;34m'Source {} is not in G'\u001b[0m\u001b[1;33m.\u001b[0m\u001b[0mformat\u001b[0m\u001b[1;33m(\u001b[0m\u001b[0msource\u001b[0m\u001b[1;33m)\u001b[0m\u001b[1;33m)\u001b[0m\u001b[1;33m\u001b[0m\u001b[0m\n\u001b[0m\u001b[0;32m     63\u001b[0m     \u001b[1;32mif\u001b[0m \u001b[0mcutoff\u001b[0m \u001b[1;32mis\u001b[0m \u001b[1;32mNone\u001b[0m\u001b[1;33m:\u001b[0m\u001b[1;33m\u001b[0m\u001b[0m\n\u001b[0;32m     64\u001b[0m         \u001b[0mcutoff\u001b[0m \u001b[1;33m=\u001b[0m \u001b[0mfloat\u001b[0m\u001b[1;33m(\u001b[0m\u001b[1;34m'inf'\u001b[0m\u001b[1;33m)\u001b[0m\u001b[1;33m\u001b[0m\u001b[0m\n",
      "\u001b[1;31mNodeNotFound\u001b[0m: Source 1 is not in G"
     ]
    }
   ],
   "source": [
    "#CLOSENESS CENTRALITY\n",
    "closecent=nx.bipartite.closeness_centrality(G, characterSet, normalized=True)\n",
    "\n",
    "cc=0.55\n",
    "\n",
    "closetopnodes=[]\n",
    "\n",
    "for i in range(1,19429+1):\n",
    "    if str(i) in closecent.keys():\n",
    "        z= closecent[str(i)]\n",
    "        if z>=cc:\n",
    "            if i==4656:\n",
    "                closetopnodes.append(['unknown character',z])\n",
    "            else:\n",
    "                closetopnodes.append([BGlabels[str(i)],z])\n",
    "            \n",
    "closetopnodes"
   ]
  },
  {
   "cell_type": "code",
   "execution_count": null,
   "metadata": {},
   "outputs": [],
   "source": []
  }
 ],
 "metadata": {
  "kernelspec": {
   "display_name": "Python 3",
   "language": "python",
   "name": "python3"
  },
  "language_info": {
   "codemirror_mode": {
    "name": "ipython",
    "version": 3
   },
   "file_extension": ".py",
   "mimetype": "text/x-python",
   "name": "python",
   "nbconvert_exporter": "python",
   "pygments_lexer": "ipython3",
   "version": "3.7.0"
  }
 },
 "nbformat": 4,
 "nbformat_minor": 2
}
