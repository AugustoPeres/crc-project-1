{
 "cells": [
  {
   "cell_type": "code",
   "execution_count": 1,
   "metadata": {},
   "outputs": [],
   "source": [
    "import numpy as np\n",
    "import networkx as nx\n",
    "import matplotlib.pyplot as plt\n",
    "\n",
    "#Importing graphs\n",
    "G=nx.read_graphml('connectcomp.graphml')\n",
    "#Importing the labels\n",
    "BG=nx.read_graphml('bipartitegraph.graphml')\n",
    "BGlabels=nx.get_node_attributes(BG,'label')"
   ]
  },
  {
   "cell_type": "code",
   "execution_count": 2,
   "metadata": {},
   "outputs": [
    {
     "name": "stdout",
     "output_type": "stream",
     "text": [
      "Name: \n",
      "Type: Graph\n",
      "Number of nodes: 6449\n",
      "Number of edges: 168211\n",
      "Average degree:  52.1665\n",
      "19427\n",
      "{'1': '24-HOUR MAN/EMMANUEL', '2': '3-D MAN/CHARLES CHAN'}\n"
     ]
    }
   ],
   "source": [
    "print(nx.info(G))\n",
    "print(len(BGlabels))\n",
    "print({k: BGlabels[k] for k in list(BGlabels)[:2]})"
   ]
  },
  {
   "cell_type": "markdown",
   "metadata": {},
   "source": [
    "## What happens when we remove high centrality nodes?"
   ]
  },
  {
   "cell_type": "code",
   "execution_count": 3,
   "metadata": {},
   "outputs": [],
   "source": [
    "# returns the index in the dictionary of a given vertice\n",
    "def get_vertice_index(g, name):\n",
    "    for key, value in g.items():\n",
    "        if value == name:\n",
    "            return key\n",
    "\n",
    "# removes nodes of degree 1\n",
    "def remove_nodes_deg_1(g):\n",
    "    to_be_removed = []\n",
    "    for ver in G.nodes():\n",
    "        if G.degree(ver) == 1:\n",
    "            to_be_removed.append(ver)\n",
    "    if len(to_be_removed) == 0:\n",
    "        print('No nodes were removed')\n",
    "    else:\n",
    "        G.remove_nodes_from(to_be_removed)\n",
    "\n",
    "# Checks if there are nodes of degree 1\n",
    "def deg1_node_Q(g):\n",
    "    for ver in G.nodes():\n",
    "        if G.degree(ver) == 1:\n",
    "            print('node of degree 1: ', ver, 'connected to: ', BGlabels.get(list(G[ver].keys())[0]))\n",
    "            return True\n",
    "    return False"
   ]
  },
  {
   "cell_type": "markdown",
   "metadata": {},
   "source": [
    "First we check if our network has any nodes of degree 1"
   ]
  },
  {
   "cell_type": "code",
   "execution_count": 4,
   "metadata": {},
   "outputs": [
    {
     "name": "stdout",
     "output_type": "stream",
     "text": [
      "node of degree 1:  306 connected to:  DR. STRANGE/STEPHEN \n"
     ]
    },
    {
     "data": {
      "text/plain": [
       "True"
      ]
     },
     "execution_count": 4,
     "metadata": {},
     "output_type": "execute_result"
    }
   ],
   "source": [
    "# making a copy of G\n",
    "Gcopy = G.copy()\n",
    "deg1_node_Q(Gcopy)"
   ]
  },
  {
   "cell_type": "markdown",
   "metadata": {},
   "source": [
    "---\n",
    "\n",
    "Now we delete any node of degree 1"
   ]
  },
  {
   "cell_type": "code",
   "execution_count": 5,
   "metadata": {},
   "outputs": [
    {
     "name": "stdout",
     "output_type": "stream",
     "text": [
      "True\n",
      "False\n"
     ]
    }
   ],
   "source": [
    "remove_nodes_deg_1(Gcopy)\n",
    "print(nx.is_connected(Gcopy))\n",
    "print(deg1_node_Q(Gcopy))"
   ]
  },
  {
   "cell_type": "markdown",
   "metadata": {},
   "source": [
    "---\n",
    "Now we find the indexes of the superheroes of high betweenness centrality"
   ]
  },
  {
   "cell_type": "code",
   "execution_count": 6,
   "metadata": {},
   "outputs": [
    {
     "name": "stdout",
     "output_type": "stream",
     "text": [
      "removing THING/BENJAMIN J. GR ... is the network still conected?: False\n",
      "removing DR. STRANGE/STEPHEN  ... is the network still conected?: True\n",
      "removing WOLVERINE/LOGAN  ... is the network still conected?: False\n",
      "removing IRON MAN/TONY STARK  ... is the network still conected?: True\n",
      "removing HAVOK/ALEX SUMMERS  ... is the network still conected?: False\n",
      "removing CAPTAIN AMERICA ... is the network still conected?: False\n",
      "removing SPIDER-MAN/PETER PAR ... is the network still conected?: True\n"
     ]
    }
   ],
   "source": [
    "high_centrality_nodes = ['THING/BENJAMIN J. GR',\n",
    "                         'DR. STRANGE/STEPHEN ',\n",
    "                         'WOLVERINE/LOGAN ',\n",
    "                         'IRON MAN/TONY STARK ',\n",
    "                         'HAVOK/ALEX SUMMERS ',\n",
    "                         'CAPTAIN AMERICA',\n",
    "                         'SPIDER-MAN/PETER PAR',\n",
    "                        ]\n",
    "for hero in high_centrality_nodes:\n",
    "    Gcopy.remove_node(get_vertice_index(BGlabels,hero))\n",
    "    print('removing ' + hero + ' ... is the network still conected?: ' + str(nx.is_connected(Gcopy)))\n",
    "    # we need to copy the graph again \n",
    "    Gcopy = G.copy()"
   ]
  },
  {
   "cell_type": "code",
   "execution_count": 7,
   "metadata": {},
   "outputs": [
    {
     "name": "stdout",
     "output_type": "stream",
     "text": [
      "2\n",
      "[6391, 6]\n"
     ]
    }
   ],
   "source": [
    "Gcopy.remove_node(get_vertice_index(BGlabels,'CAPTAIN AMERICA'))\n",
    "print(nx.number_connected_components(Gcopy))\n",
    "print([len(c) for c in sorted(nx.connected_components(Gcopy), key=len, reverse=True)])"
   ]
  },
  {
   "cell_type": "code",
   "execution_count": null,
   "metadata": {},
   "outputs": [],
   "source": []
  }
 ],
 "metadata": {
  "kernelspec": {
   "display_name": "Python 3",
   "language": "python",
   "name": "python3"
  },
  "language_info": {
   "codemirror_mode": {
    "name": "ipython",
    "version": 3
   },
   "file_extension": ".py",
   "mimetype": "text/x-python",
   "name": "python",
   "nbconvert_exporter": "python",
   "pygments_lexer": "ipython3",
   "version": "3.6.5"
  }
 },
 "nbformat": 4,
 "nbformat_minor": 2
}
